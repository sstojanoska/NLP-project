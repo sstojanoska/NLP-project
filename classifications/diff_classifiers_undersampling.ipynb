{
 "cells": [
  {
   "cell_type": "code",
   "execution_count": 90,
   "metadata": {},
   "outputs": [
    {
     "name": "stdout",
     "output_type": "stream",
     "text": [
      "Requirement already satisfied: imblearn in c:\\users\\vanda\\anaconda3\\lib\\site-packages (0.0)\n",
      "Requirement already satisfied: imbalanced-learn in c:\\users\\vanda\\anaconda3\\lib\\site-packages (from imblearn) (0.6.2)\n",
      "Requirement already satisfied: joblib>=0.11 in c:\\users\\vanda\\anaconda3\\lib\\site-packages (from imbalanced-learn->imblearn) (0.13.2)\n",
      "Requirement already satisfied: scipy>=0.17 in c:\\users\\vanda\\anaconda3\\lib\\site-packages (from imbalanced-learn->imblearn) (1.3.1)\n",
      "Requirement already satisfied: scikit-learn>=0.22 in c:\\users\\vanda\\anaconda3\\lib\\site-packages (from imbalanced-learn->imblearn) (0.22.2.post1)\n",
      "Requirement already satisfied: numpy>=1.11 in c:\\users\\vanda\\anaconda3\\lib\\site-packages (from imbalanced-learn->imblearn) (1.16.5)\n"
     ]
    }
   ],
   "source": [
    "!pip install imblearn"
   ]
  },
  {
   "cell_type": "code",
   "execution_count": 91,
   "metadata": {},
   "outputs": [],
   "source": [
    "import pandas as pd\n",
    "import csv\n",
    "import sklearn\n",
    "import numpy as np\n",
    "from sklearn.model_selection import train_test_split\n",
    "from imblearn.under_sampling import NearMiss\n",
    "from imblearn.under_sampling import RandomUnderSampler\n",
    "from imblearn.over_sampling import SMOTE "
   ]
  },
  {
   "cell_type": "code",
   "execution_count": 92,
   "metadata": {},
   "outputs": [],
   "source": [
    "from nltk.classify import SklearnClassifier\n",
    "from sklearn.neighbors import KNeighborsClassifier\n",
    "from sklearn.naive_bayes import GaussianNB\n",
    "from sklearn.ensemble import RandomForestClassifier, ExtraTreesClassifier\n",
    "from sklearn.tree import DecisionTreeClassifier\n",
    "from sklearn.svm import SVC\n",
    "from sklearn.svm import LinearSVC\n",
    "from sklearn.linear_model import LinearRegression\n",
    "from sklearn.linear_model import LogisticRegression\n",
    "from sklearn.neural_network import MLPClassifier\n",
    "from sklearn.discriminant_analysis import LinearDiscriminantAnalysis, QuadraticDiscriminantAnalysis\n",
    "#metrics\n",
    "from sklearn.metrics import f1_score\n",
    "from sklearn.metrics import classification_report, confusion_matrix, accuracy_score\n"
   ]
  },
  {
   "cell_type": "code",
   "execution_count": 93,
   "metadata": {},
   "outputs": [],
   "source": [
    "df_total = pd.read_csv(\"third_df_rmsw.csv\") "
   ]
  },
  {
   "cell_type": "code",
   "execution_count": 94,
   "metadata": {},
   "outputs": [],
   "source": [
    "q = df_total['polarity'].astype(int)\n",
    "#y = np.where((q==2) | (q == 1), 0, 1)\n",
    "y = np.where(q == 3, 0, 1) #convert polarities binary: 0-neutral/1-polar\n",
    "X = df_total.drop(\"polarity\",1) "
   ]
  },
  {
   "cell_type": "code",
   "execution_count": 95,
   "metadata": {},
   "outputs": [],
   "source": [
    "ts=0.3\n",
    "rs=42\n",
    "X_train, X_test, y_train, y_test = train_test_split(X,y, test_size = ts, random_state = rs)"
   ]
  },
  {
   "cell_type": "code",
   "execution_count": 96,
   "metadata": {},
   "outputs": [
    {
     "name": "stdout",
     "output_type": "stream",
     "text": [
      "Before OverSampling, counts of label '1': 2357\n",
      "Before OverSampling, counts of label '0': 7522 \n",
      "\n",
      "After OverSampling, counts of label '1': 7522\n",
      "After OverSampling, counts of label '0': 7522\n"
     ]
    }
   ],
   "source": [
    "\n",
    "print(\"Before OverSampling, counts of label '1': {}\".format(sum(y_train == 1))) \n",
    "print(\"Before OverSampling, counts of label '0': {} \\n\".format(sum(y_train == 0)))\n",
    "sm = SMOTE(random_state = 2)\n",
    "X_train_res, y_train_res = sm.fit_sample(X_train, y_train.ravel()) \n",
    "print(\"After OverSampling, counts of label '1': {}\".format(sum(y_train_res == 1))) \n",
    "print(\"After OverSampling, counts of label '0': {}\".format(sum(y_train_res == 0))) "
   ]
  },
  {
   "cell_type": "code",
   "execution_count": 97,
   "metadata": {},
   "outputs": [
    {
     "name": "stdout",
     "output_type": "stream",
     "text": [
      "Before Undersampling, counts of label '1': 2357\n",
      "Before Undersampling, counts of label '0': 7522 \n",
      "\n",
      "After Undersampling, counts of label '1': 2357\n",
      "After Undersampling, counts of label '0': 2357\n"
     ]
    }
   ],
   "source": [
    "print(\"Before Undersampling, counts of label '1': {}\".format(sum(y_train == 1))) \n",
    "print(\"Before Undersampling, counts of label '0': {} \\n\".format(sum(y_train == 0))) \n",
    "nr = NearMiss() \n",
    "X_train_miss, y_train_miss = nr.fit_resample(X_train, y_train) \n",
    "print(\"After Undersampling, counts of label '1': {}\".format(sum(y_train_miss == 1))) \n",
    "print(\"After Undersampling, counts of label '0': {}\".format(sum(y_train_miss == 0))) \n"
   ]
  },
  {
   "cell_type": "code",
   "execution_count": 98,
   "metadata": {},
   "outputs": [
    {
     "name": "stdout",
     "output_type": "stream",
     "text": [
      "7071\n",
      "7071\n"
     ]
    }
   ],
   "source": [
    "undersample = RandomUnderSampler(sampling_strategy=0.5)\n",
    "X_over, y_over = undersample.fit_resample(X_train, y_train)\n",
    "print(len(X_over))\n",
    "print(len(y_over))"
   ]
  },
  {
   "cell_type": "code",
   "execution_count": 99,
   "metadata": {},
   "outputs": [
    {
     "name": "stdout",
     "output_type": "stream",
     "text": [
      "SVC:\n",
      "\n",
      "              precision    recall  f1-score   support\n",
      "\n",
      "           0       0.82      0.67      0.74      3205\n",
      "           1       0.34      0.53      0.42      1030\n",
      "\n",
      "    accuracy                           0.64      4235\n",
      "   macro avg       0.58      0.60      0.58      4235\n",
      "weighted avg       0.70      0.64      0.66      4235\n",
      "\n",
      "[[2159 1046]\n",
      " [ 481  549]]\n"
     ]
    }
   ],
   "source": [
    "svc = SVC(class_weight=\"balanced\", gamma=\"scale\")\n",
    "#svc.fit(X_train, y_train)\n",
    "#svc.fit(X_over, y_over)\n",
    "svc.fit(X_train_miss, y_train_miss)\n",
    "svc_predict = svc.predict(X_test)\n",
    "\n",
    "print(\"SVC:\\n\")\n",
    "print(classification_report(y_test, svc_predict))\n",
    "print(confusion_matrix(y_test, svc_predict))"
   ]
  },
  {
   "cell_type": "code",
   "execution_count": 104,
   "metadata": {},
   "outputs": [
    {
     "name": "stdout",
     "output_type": "stream",
     "text": [
      "RandomForestClassifier:\n",
      "\n",
      "              precision    recall  f1-score   support\n",
      "\n",
      "           0       0.82      0.62      0.71      3205\n",
      "           1       0.33      0.58      0.42      1030\n",
      "\n",
      "    accuracy                           0.61      4235\n",
      "   macro avg       0.58      0.60      0.57      4235\n",
      "weighted avg       0.70      0.61      0.64      4235\n",
      "\n",
      "[[1996 1209]\n",
      " [ 431  599]]\n"
     ]
    }
   ],
   "source": [
    "rf = RandomForestClassifier(n_estimators=100, class_weight=\"balanced\")\n",
    "#rf.fit(X_train, y_train)\n",
    "#rf.fit(X_train_miss, y_train_miss)\n",
    "rf.fit(X_over, y_over)\n",
    "rf_predict = rf.predict(X_test)\n",
    "\n",
    "print(\"RandomForestClassifier:\\n\")\n",
    "print(classification_report(y_test, rf_predict))\n",
    "print(confusion_matrix(y_test, rf_predict))"
   ]
  },
  {
   "cell_type": "code",
   "execution_count": 85,
   "metadata": {},
   "outputs": [
    {
     "name": "stdout",
     "output_type": "stream",
     "text": [
      "SVC:\n",
      "\n",
      "              precision    recall  f1-score   support\n",
      "\n",
      "           0       0.76      0.98      0.86      3176\n",
      "           1       0.56      0.07      0.13      1059\n",
      "\n",
      "    accuracy                           0.75      4235\n",
      "   macro avg       0.66      0.53      0.49      4235\n",
      "weighted avg       0.71      0.75      0.67      4235\n",
      "\n",
      "[[3116   60]\n",
      " [ 982   77]]\n"
     ]
    }
   ],
   "source": [
    "df_total = df_total.drop(\"isSubject\", 1)\n",
    "#df_total = df_total.drop(\"isObject\", 1)\n",
    "ts=0.3\n",
    "rs=0\n",
    "X_train, X_test, y_train, y_test = train_test_split(X,y, test_size = ts, random_state = rs)\n",
    "svc = SVC()\n",
    "svc.fit(X_train, y_train)\n",
    "#svc.fit(X_train_res, y_train_res.ravel())\n",
    "svc_predict = svc.predict(X_test)\n",
    "\n",
    "print(\"SVC:\\n\")\n",
    "print(classification_report(y_test, svc_predict))\n",
    "print(confusion_matrix(y_test, svc_predict))"
   ]
  }
 ],
 "metadata": {
  "kernelspec": {
   "display_name": "Python 3",
   "language": "python",
   "name": "python3"
  },
  "language_info": {
   "codemirror_mode": {
    "name": "ipython",
    "version": 3
   },
   "file_extension": ".py",
   "mimetype": "text/x-python",
   "name": "python",
   "nbconvert_exporter": "python",
   "pygments_lexer": "ipython3",
   "version": "3.7.4"
  }
 },
 "nbformat": 4,
 "nbformat_minor": 2
}
